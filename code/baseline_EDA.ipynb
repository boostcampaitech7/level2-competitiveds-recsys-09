{
 "cells": [
  {
   "cell_type": "markdown",
   "metadata": {},
   "source": [
    "# 라이브러리 불러오기"
   ]
  },
  {
   "cell_type": "code",
   "execution_count": 1,
   "metadata": {},
   "outputs": [],
   "source": [
    "import os\n",
    "\n",
    "# numerical calculation & data frames\n",
    "import numpy as np\n",
    "import pandas as pd\n",
    "\n",
    "# visualization\n",
    "import matplotlib.pyplot as plt\n",
    "import seaborn as sns\n",
    "import seaborn.objects as so\n",
    "\n",
    "# statistics\n",
    "import statsmodels.api as sm\n",
    "\n",
    "# pandas options\n",
    "pd.set_option('mode.copy_on_write', True)  # pandas 2.0\n",
    "pd.options.display.float_format = '{:.2f}'.format  # pd.reset_option('display.float_format')\n",
    "\n",
    "# NumPy options\n",
    "np.set_printoptions(precision = 2, suppress=True)  # suppress scientific notation\n",
    "\n",
    "# For high resolution display\n",
    "import matplotlib_inline\n",
    "matplotlib_inline.backend_inline.set_matplotlib_formats(\"retina\")\n",
    "\n",
    "import lightgbm as lgb\n",
    "from sklearn.metrics import mean_squared_error, mean_absolute_error"
   ]
  },
  {
   "cell_type": "markdown",
   "metadata": {},
   "source": [
    "# 시각화 함수"
   ]
  },
  {
   "cell_type": "code",
   "execution_count": 2,
   "metadata": {},
   "outputs": [],
   "source": [
    "def boxplot(df, x, y, color=None, alpha=0.1, marker=\"<\"):\n",
    "    \n",
    "    return (\n",
    "        so.Plot(df, x=x, y=y, color=color)\n",
    "        .add(so.Dots(alpha=alpha, color=\".6\"), so.Jitter(), so.Dodge())\n",
    "        .add(so.Range(), so.Est(errorbar=(\"pi\", 50)), so.Dodge())\n",
    "        .add(so.Dot(pointsize=8, marker=marker), so.Agg(\"median\"), so.Dodge())\n",
    "        .scale(color=\"Dark2\")\n",
    "        .theme({**sns.axes_style(\"whitegrid\")})\n",
    "    )\n",
    "\n",
    "\n",
    "def rangeplot(df, x, y, color=None, alpha=0.1, marker=\"<\"):\n",
    "\n",
    "    return (\n",
    "        so.Plot(df, x=x, y=y, color=color)\n",
    "        .add(so.Range(), so.Est(errorbar=(\"pi\", 50)), so.Dodge())\n",
    "        .add(so.Dot(pointsize=8, marker=marker), so.Agg(\"median\"), so.Dodge())\n",
    "        .scale(color=\"Dark2\")\n",
    "        .theme({**sns.axes_style(\"whitegrid\")})\n",
    "    )"
   ]
  },
  {
   "cell_type": "markdown",
   "metadata": {},
   "source": [
    "# 랜덤 시드 설정"
   ]
  },
  {
   "cell_type": "code",
   "execution_count": 3,
   "metadata": {},
   "outputs": [],
   "source": [
    "RANDOM_SEED = 42\n",
    "np.random.seed(RANDOM_SEED)"
   ]
  },
  {
   "cell_type": "markdown",
   "metadata": {},
   "source": [
    "# 데이터 불러오기"
   ]
  },
  {
   "cell_type": "code",
   "execution_count": 4,
   "metadata": {},
   "outputs": [],
   "source": [
    "data_path = \"../data\"\n",
    "train_data = pd.read_csv(os.path.join(data_path, 'train.csv'))\n",
    "test_data = pd.read_csv(os.path.join(data_path, 'test.csv'))\n",
    "sample_submission = pd.read_csv(os.path.join(data_path, 'sample_submission.csv'))\n",
    "school_data = pd.read_csv(os.path.join(data_path, 'schoolinfo.csv'))\n",
    "park_data = pd.read_csv(os.path.join(data_path, 'parkInfo.csv'))\n",
    "subway_data = pd.read_csv(os.path.join(data_path, 'subwayInfo.csv'))\n",
    "interest_data = pd.read_csv(os.path.join(data_path, 'interestRate.csv'))"
   ]
  },
  {
   "cell_type": "code",
   "execution_count": 5,
   "metadata": {},
   "outputs": [],
   "source": [
    "train_data_copy = train_data.copy()"
   ]
  },
  {
   "cell_type": "markdown",
   "metadata": {},
   "source": [
    "# Train EDA\n",
    "\n",
    "- **`index`**: 인덱스 번호\n",
    "- **`area_m2`**: 면적 (제곱미터)\n",
    "- **`contract_year_month`**: 계약년월\n",
    "- **`contract_day`**: 계약일\n",
    "- **`contract_type`**: 계약 유형(0: 신규, 1:갱신, 2:모름)\n",
    "- **`floor`**: 층수\n",
    "- **`built_year`**: 건축 연도\n",
    "- **`latitude`**: 위도\n",
    "- **`longitude`**: 경도\n",
    "- **`age`**: 건물의 나이 (계산된 값)\n",
    "- **`deposit`**: 전세 실거래가 (타겟 변수)"
   ]
  },
  {
   "cell_type": "code",
   "execution_count": 8,
   "metadata": {},
   "outputs": [],
   "source": [
    "df_eda = train_data_copy"
   ]
  },
  {
   "cell_type": "code",
   "execution_count": null,
   "metadata": {},
   "outputs": [],
   "source": [
    "print(\"train, test_data, sample_submission shape : \", train_data.shape, test_data.shape, sample_submission.shape)"
   ]
  },
  {
   "cell_type": "code",
   "execution_count": null,
   "metadata": {},
   "outputs": [],
   "source": [
    "print(\"train data 변수 요약 정보 확인 \")\n",
    "display(train_data.describe())"
   ]
  },
  {
   "cell_type": "code",
   "execution_count": null,
   "metadata": {},
   "outputs": [],
   "source": [
    "print(\"test data 변수 요약 정보 확인 \")\n",
    "test_data.describe()"
   ]
  },
  {
   "cell_type": "code",
   "execution_count": null,
   "metadata": {},
   "outputs": [],
   "source": [
    "park_data.describe()"
   ]
  },
  {
   "cell_type": "markdown",
   "metadata": {},
   "source": [
    "## 결측값 확인"
   ]
  },
  {
   "cell_type": "code",
   "execution_count": null,
   "metadata": {},
   "outputs": [],
   "source": [
    "train_data.isna().sum()"
   ]
  },
  {
   "cell_type": "markdown",
   "metadata": {},
   "source": [
    "## 중복값 확인\n",
    "\n",
    "중복값을 어떻게 처리할 건지\n",
    "\n",
    "- 같은 날/ 같은 건물 같은 층수가 같은 가격으로 계약 된 걸 다른 호수가 계약됐을 가능성도 있지 않나?\n",
    "- 아니면 그냥 중복값은 삭제할까"
   ]
  },
  {
   "cell_type": "code",
   "execution_count": null,
   "metadata": {},
   "outputs": [],
   "source": [
    "train_data[train_data.duplicated()]"
   ]
  },
  {
   "cell_type": "code",
   "execution_count": null,
   "metadata": {},
   "outputs": [],
   "source": [
    "train_data[train_data.drop(columns=['index']).duplicated()]"
   ]
  },
  {
   "cell_type": "markdown",
   "metadata": {},
   "source": [
    "## 이상치 확인 (boxplot으로 확인)\n",
    "\n",
    "그래프로 봤을 때는 이상치 없어보임"
   ]
  },
  {
   "cell_type": "code",
   "execution_count": null,
   "metadata": {},
   "outputs": [],
   "source": [
    "# 연속형 변수에 대한 boxplot 그리기\n",
    "for column in ['area_m2', 'floor', 'age']:\n",
    "    plt.figure(figsize=(6, 4))\n",
    "    train_data[[column]].boxplot()\n",
    "    plt.title(f'Boxplot of {column}')\n",
    "    plt.show()\n"
   ]
  },
  {
   "cell_type": "markdown",
   "metadata": {},
   "source": [
    "# 상관관계"
   ]
  },
  {
   "cell_type": "code",
   "execution_count": null,
   "metadata": {},
   "outputs": [],
   "source": [
    "# 상관계수 계산\n",
    "corr_matrix = df_eda[['area_m2', 'contract_year_month', 'contract_day', 'contract_type', 'floor',\n",
    "                      'built_year', 'latitude', 'longitude', 'age', 'deposit']].corr()\n",
    "\n",
    "# Heatmap 그리기\n",
    "plt.figure(figsize=(10, 8))\n",
    "sns.heatmap(corr_matrix, annot=True, cmap='coolwarm', fmt='.2f')\n",
    "plt.title('Correlation Heatmap')\n",
    "plt.show()\n",
    "\n"
   ]
  },
  {
   "cell_type": "markdown",
   "metadata": {},
   "source": [
    "## 분포 그래프"
   ]
  },
  {
   "cell_type": "code",
   "execution_count": 26,
   "metadata": {},
   "outputs": [],
   "source": [
    "def plot_histograms(df):\n",
    "    continuous_columns = df.select_dtypes(include='number').columns\n",
    "    \n",
    "    # Plotting histograms using Seaborn\n",
    "    for column in continuous_columns:\n",
    "        plt.figure(figsize=(8, 6))\n",
    "        sns.histplot(df[column], kde=False, bins=30)\n",
    "        plt.title(f'Histogram of {column}')\n",
    "        plt.xlabel(column)\n",
    "        plt.ylabel('Frequency')\n",
    "        plt.show()\n"
   ]
  },
  {
   "cell_type": "code",
   "execution_count": null,
   "metadata": {},
   "outputs": [],
   "source": [
    "df_filtered = df_eda.drop(columns=['index', 'contract_year_month', 'contract_day', 'contract_type'])\n",
    "plot_histograms(df_filtered)"
   ]
  },
  {
   "cell_type": "markdown",
   "metadata": {},
   "source": [
    "### 면적\n",
    "\n",
    "- 면적이 넓을 수록 가격이 높아지는 경향이 있음\n",
    "- 오래된 집일 수록 면적이 넓은 경향이 있음"
   ]
  },
  {
   "cell_type": "code",
   "execution_count": null,
   "metadata": {},
   "outputs": [],
   "source": [
    "(\n",
    "    so.Plot(df_eda,x='area_m2',y='deposit')\n",
    "    .add(so.Dots())\n",
    "    .add(so.Line(color='orange'),so.PolyFit(5)) # 색상 변경하기\n",
    ")"
   ]
  },
  {
   "cell_type": "code",
   "execution_count": null,
   "metadata": {},
   "outputs": [],
   "source": [
    "rangeplot(df_eda,x='age_eda',y='area_m2')"
   ]
  },
  {
   "cell_type": "markdown",
   "metadata": {},
   "source": [
    "### contract_type(0:신규,1:갱신,2:모름)\n",
    "순서 없음 -> one-hot encoding\n",
    "\n",
    "\n",
    "- 평균 기준\n",
    "    - 갱신 > 신규 > 모름 큰 차이는 없음\n",
    "    - 관련된 정보를 찾아보면 좋을 거 같음\n",
    "    - 근데 모름 빈도가 많음"
   ]
  },
  {
   "cell_type": "code",
   "execution_count": null,
   "metadata": {},
   "outputs": [],
   "source": [
    "(\n",
    "    so.Plot(df_eda, x=\"contract_type\")\n",
    "    .add(so.Bar(), so.Count())  # category type의 변수는 순서가 존재. \n",
    "                                # 그렇지 않은 경우 알바벳 순서로. \n",
    ").show()"
   ]
  },
  {
   "cell_type": "code",
   "execution_count": null,
   "metadata": {},
   "outputs": [],
   "source": [
    "rangeplot(df_eda,x='contract_type',y='deposit')"
   ]
  },
  {
   "cell_type": "markdown",
   "metadata": {},
   "source": [
    "### age\n",
    "\n",
    "- 신식 건물일 수록 비싸지 않을까?\n",
    "- age가 정확하게 어떤 걸 의미 : 계약일자 빼기 built_year\n",
    "- age 음수인 경우 : 부호가 잘 못 들어감"
   ]
  },
  {
   "cell_type": "code",
   "execution_count": null,
   "metadata": {},
   "outputs": [],
   "source": [
    "display(train_data[train_data['age'] <= 0]['age'].value_counts())\n",
    "print(\"건물 나이가 음수인 경우 :\",train_data[train_data['age'] == 0 ]['age'].count())"
   ]
  },
  {
   "cell_type": "code",
   "execution_count": null,
   "metadata": {},
   "outputs": [],
   "source": [
    "train_data[train_data['age']==-3]"
   ]
  },
  {
   "cell_type": "code",
   "execution_count": null,
   "metadata": {},
   "outputs": [],
   "source": [
    "train_data[train_data['age']==-2]"
   ]
  },
  {
   "cell_type": "code",
   "execution_count": null,
   "metadata": {},
   "outputs": [],
   "source": [
    "rangeplot(df_eda,x='age',y='deposit')"
   ]
  },
  {
   "cell_type": "markdown",
   "metadata": {},
   "source": [
    "- 최신건물이라고 엄청 비싸지는 않음\n",
    "- 40 - 50 묶어서 저 구간은 확인해보면 좋을 거 같음 -> 건물 크기가 커서 비싸다"
   ]
  },
  {
   "cell_type": "markdown",
   "metadata": {},
   "source": [
    "### floor"
   ]
  },
  {
   "cell_type": "code",
   "execution_count": null,
   "metadata": {},
   "outputs": [],
   "source": [
    "rangeplot(df_eda,x='floor',y = 'deposit')"
   ]
  },
  {
   "cell_type": "code",
   "execution_count": null,
   "metadata": {},
   "outputs": [],
   "source": [
    "df_eda[df_eda['floor'] <= 0]['floor'].value_counts()"
   ]
  },
  {
   "cell_type": "code",
   "execution_count": null,
   "metadata": {},
   "outputs": [],
   "source": [
    "df_eda[df_eda['floor'] == 0]"
   ]
  },
  {
   "cell_type": "markdown",
   "metadata": {},
   "source": [
    "### 위도 경도\n",
    "\n",
    "- 일단 주소로 변환 후 지도 위에 표시하는 방향으로 eda 진행 \n",
    "    -  지오코딩 너무 오래걸림 일단 지도 위에 표시하는 걸로\n",
    "\n",
    "- 근처에 학교가 있는지 확인해봄 ,다른 데이터셋과 같이 이용할 수 있음 일단은 학교만 먼저 이용함"
   ]
  },
  {
   "cell_type": "markdown",
   "metadata": {},
   "source": [
    "### 계약 날짜 - 금리랑 상관 있을 거 같음"
   ]
  },
  {
   "cell_type": "code",
   "execution_count": null,
   "metadata": {},
   "outputs": [],
   "source": [
    "rangeplot(df_eda,x='contract_year_month',y='deposit')"
   ]
  },
  {
   "cell_type": "code",
   "execution_count": null,
   "metadata": {},
   "outputs": [],
   "source": [
    "rangeplot(df_eda,x='contract_day',y='deposit')"
   ]
  },
  {
   "cell_type": "markdown",
   "metadata": {},
   "source": [
    "# 대회에 필요한 데이터만 활용하기"
   ]
  },
  {
   "cell_type": "code",
   "execution_count": 3,
   "metadata": {},
   "outputs": [],
   "source": [
    "columns_needed = ['area_m2', 'contract_year_month', 'contract_day', 'contract_type', 'floor', 'latitude', 'longitude', 'deposit']\n",
    "columns_needed_test = ['area_m2', 'contract_year_month', 'contract_day', 'contract_type', 'floor', 'latitude', 'longitude']\n",
    "train_data = train_data[columns_needed]\n",
    "test_data = test_data[columns_needed_test]"
   ]
  },
  {
   "cell_type": "markdown",
   "metadata": {},
   "source": [
    "# Holdout 데이터셋 설정 (예: 2023년 7월부터 12월까지의 데이터)"
   ]
  },
  {
   "cell_type": "code",
   "execution_count": 5,
   "metadata": {},
   "outputs": [],
   "source": [
    "holdout_start = 202307\n",
    "holdout_end = 202312\n",
    "holdout_data = train_data[(train_data['contract_year_month'] >= holdout_start) & (train_data['contract_year_month'] <= holdout_end)]\n",
    "train_data = train_data[~((train_data['contract_year_month'] >= holdout_start) & (train_data['contract_year_month'] <= holdout_end))]"
   ]
  },
  {
   "cell_type": "markdown",
   "metadata": {},
   "source": [
    "# 학습 데이터와 정답 데이터 분리"
   ]
  },
  {
   "cell_type": "code",
   "execution_count": 6,
   "metadata": {},
   "outputs": [],
   "source": [
    "X_train = train_data.drop(columns=['deposit'])\n",
    "y_train = train_data['deposit']\n",
    "X_holdout = holdout_data.drop(columns=['deposit'])\n",
    "y_holdout = holdout_data['deposit']\n",
    "X_test = test_data.copy()"
   ]
  },
  {
   "cell_type": "markdown",
   "metadata": {},
   "source": [
    "# LightGBM 모델 훈련"
   ]
  },
  {
   "cell_type": "code",
   "execution_count": null,
   "metadata": {},
   "outputs": [],
   "source": [
    "lgb_model = lgb.LGBMRegressor(random_state=RANDOM_SEED)\n",
    "lgb_model.fit(X_train, y_train)"
   ]
  },
  {
   "cell_type": "markdown",
   "metadata": {},
   "source": [
    "# Holdout 데이터셋에 대한 성능 확인"
   ]
  },
  {
   "cell_type": "code",
   "execution_count": null,
   "metadata": {},
   "outputs": [],
   "source": [
    "lgb_holdout_pred = lgb_model.predict(X_holdout)\n",
    "lgb_holdout_mae = mean_absolute_error(y_holdout, lgb_holdout_pred)\n",
    "print(\"Holdout 데이터셋 성능:\")\n",
    "print(f\"LightGBM MAE: {lgb_holdout_mae:.2f}\")"
   ]
  },
  {
   "cell_type": "markdown",
   "metadata": {},
   "source": [
    "------------"
   ]
  },
  {
   "cell_type": "markdown",
   "metadata": {},
   "source": [
    "# Sample Submission 제출하기"
   ]
  },
  {
   "cell_type": "code",
   "execution_count": 27,
   "metadata": {},
   "outputs": [],
   "source": [
    "lgb_test_pred = lgb_model.predict(X_test)\n",
    "sample_submission['deposit'] = lgb_test_pred\n",
    "sample_submission.to_csv('output.csv', index=False, encoding='utf-8-sig')"
   ]
  }
 ],
 "metadata": {
  "kernelspec": {
   "display_name": "faceswap_conda",
   "language": "python",
   "name": "python3"
  },
  "language_info": {
   "codemirror_mode": {
    "name": "ipython",
    "version": 3
   },
   "file_extension": ".py",
   "mimetype": "text/x-python",
   "name": "python",
   "nbconvert_exporter": "python",
   "pygments_lexer": "ipython3",
   "version": "3.9.0"
  }
 },
 "nbformat": 4,
 "nbformat_minor": 2
}
