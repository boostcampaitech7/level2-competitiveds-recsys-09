{
 "cells": [
  {
   "cell_type": "markdown",
   "metadata": {},
   "source": [
    "# 라이브러리 불러오기"
   ]
  },
  {
   "cell_type": "code",
   "execution_count": 34,
   "metadata": {},
   "outputs": [],
   "source": [
    "import os\n",
    "import pandas as pd\n",
    "import numpy as np\n",
    "import lightgbm as lgb\n",
    "from sklearn.metrics import mean_squared_error, mean_absolute_error\n",
    "import datetime\n",
    "import matplotlib.pyplot as plt"
   ]
  },
  {
   "cell_type": "markdown",
   "metadata": {},
   "source": [
    "# 랜덤 시드 설정"
   ]
  },
  {
   "cell_type": "code",
   "execution_count": 35,
   "metadata": {},
   "outputs": [],
   "source": [
    "RANDOM_SEED = 42\n",
    "np.random.seed(RANDOM_SEED)"
   ]
  },
  {
   "cell_type": "markdown",
   "metadata": {},
   "source": [
    "# 데이터 불러오기"
   ]
  },
  {
   "cell_type": "code",
   "execution_count": 39,
   "metadata": {},
   "outputs": [],
   "source": [
    "train_data = pd.read_csv('../../data/data/train.csv')\n",
    "test_data = pd.read_csv('../../data/data/test.csv')\n",
    "sample_submission = pd.read_csv('../../data/data/sample_submission.csv')"
   ]
  },
  {
   "cell_type": "markdown",
   "metadata": {},
   "source": [
    "# 데이터 전처리하기"
   ]
  },
  {
   "cell_type": "code",
   "execution_count": 40,
   "metadata": {},
   "outputs": [
    {
     "data": {
      "text/plain": [
       "(1717611, 12)"
      ]
     },
     "execution_count": 40,
     "metadata": {},
     "output_type": "execute_result"
    }
   ],
   "source": [
    "# Train\n",
    "# 날짜순으로 정렬\n",
    "train_data[\"contract_year_month_day\"] = pd.to_datetime(train_data[\"contract_year_month\"] * 100 + train_data[\"contract_day\"], format='%Y%m%d')\n",
    "train_data = train_data.sort_values(by=\"contract_year_month_day\")\n",
    "\n",
    "# 음수 age를 양수로 변환\n",
    "train_data[\"age\"] = train_data[\"age\"].abs()\n",
    "\n",
    "# duplicated data 제거\n",
    "dup_df = train_data[train_data.drop(columns=\"index\").duplicated()]\n",
    "train_data = train_data.drop(index=dup_df.index)\n",
    "\n",
    "train_data.shape"
   ]
  },
  {
   "cell_type": "markdown",
   "metadata": {},
   "source": [
    "# 데이터 EDA 수행하기"
   ]
  },
  {
   "cell_type": "code",
   "execution_count": 37,
   "metadata": {},
   "outputs": [
    {
     "name": "stdout",
     "output_type": "stream",
     "text": [
      "train, test_data, sample_submission shape :  (1801228, 11) (150172, 10) (150172, 2)\n",
      "train data 변수 요약 정보 확인 : \n",
      "               index       area_m2  contract_year_month  contract_day  \\\n",
      "count  1.801228e+06  1.801228e+06         1.801228e+06  1.801228e+06   \n",
      "mean   9.006135e+05  7.518833e+01         2.021331e+05  1.589943e+01   \n",
      "std    5.199699e+05  2.552632e+01         1.352815e+02  8.625998e+00   \n",
      "min    0.000000e+00  1.032150e+01         2.019040e+05  1.000000e+00   \n",
      "25%    4.503068e+05  5.975000e+01         2.020080e+05  9.000000e+00   \n",
      "50%    9.006135e+05  7.715000e+01         2.021110e+05  1.600000e+01   \n",
      "75%    1.350920e+06  8.496000e+01         2.022120e+05  2.300000e+01   \n",
      "max    1.801227e+06  3.173600e+02         2.023120e+05  3.100000e+01   \n",
      "\n",
      "       contract_type         floor    built_year      latitude     longitude  \\\n",
      "count   1.801228e+06  1.801228e+06  1.801228e+06  1.801228e+06  1.801228e+06   \n",
      "mean    1.203805e+00  1.005197e+01  2.004199e+03  3.747721e+01  1.269662e+02   \n",
      "std     8.852792e-01  6.973359e+00  1.115132e+01  1.625113e-01  1.701221e-01   \n",
      "min     0.000000e+00 -4.000000e+00  1.961000e+03  3.691791e+01  1.264787e+02   \n",
      "25%     0.000000e+00  5.000000e+00  1.995000e+03  3.737976e+01  1.268422e+02   \n",
      "50%     2.000000e+00  9.000000e+00  2.004000e+03  3.750227e+01  1.269976e+02   \n",
      "75%     2.000000e+00  1.400000e+01  2.015000e+03  3.758205e+01  1.270888e+02   \n",
      "max     2.000000e+00  6.800000e+01  2.024000e+03  3.818194e+01  1.276609e+02   \n",
      "\n",
      "                age       deposit  \n",
      "count  1.801228e+06  1.801228e+06  \n",
      "mean   1.706597e+01  3.816223e+04  \n",
      "std    1.112796e+01  2.610377e+04  \n",
      "min   -3.000000e+00  3.000000e+02  \n",
      "25%    7.000000e+00  2.100000e+04  \n",
      "50%    1.700000e+01  3.200000e+04  \n",
      "75%    2.600000e+01  4.780000e+04  \n",
      "max    6.200000e+01  1.100000e+06  \n",
      "test data 변수 요약 정보 확인 : \n",
      "               index        area_m2  contract_year_month   contract_day  \\\n",
      "count  150172.00000  150172.000000        150172.000000  150172.000000   \n",
      "mean    75085.50000      74.509956        202403.137576      14.816650   \n",
      "std     43351.06665      23.971424             1.645994       8.537693   \n",
      "min         0.00000      10.780000        202401.000000       1.000000   \n",
      "25%     37542.75000      59.760000        202402.000000       7.000000   \n",
      "50%     75085.50000      75.793700        202403.000000      15.000000   \n",
      "75%    112628.25000      84.958200        202405.000000      22.000000   \n",
      "max    150171.00000     273.860000        202406.000000      31.000000   \n",
      "\n",
      "       contract_type          floor     built_year       latitude  \\\n",
      "count  150172.000000  150172.000000  150172.000000  150172.000000   \n",
      "mean        0.426071      10.060557    2004.908292      37.474571   \n",
      "std         0.597423       6.982813      11.460352       0.166952   \n",
      "min         0.000000      -3.000000    1966.000000      36.957089   \n",
      "25%         0.000000       5.000000    1995.000000      37.372616   \n",
      "50%         0.000000       9.000000    2004.000000      37.500382   \n",
      "75%         1.000000      14.000000    2016.000000      37.588872   \n",
      "max         2.000000      60.000000    2024.000000      38.106033   \n",
      "\n",
      "           longitude            age  \n",
      "count  150172.000000  150172.000000  \n",
      "mean      126.967625      19.091708  \n",
      "std         0.172066      11.460352  \n",
      "min       126.478708       0.000000  \n",
      "25%       126.841057       8.000000  \n",
      "50%       126.998922      20.000000  \n",
      "75%       127.091862      29.000000  \n",
      "max       127.660896      58.000000  \n"
     ]
    }
   ],
   "source": [
    "print(\"train, test_data, sample_submission shape : \", train_data.shape, test_data.shape, sample_submission.shape)\n",
    "# print(\"train data 상단 5개 정보 확인 : \", train_data.head())\n",
    "# print(\"test data 상단 5개 정보 확인 : \", test_data.head())\n",
    "# print(\"sample_submission 상단 5개 정보 확인 : \", sample_submission.head())\n",
    "print(\"train data 변수 요약 정보 확인 : \\n\", train_data.describe())\n",
    "print(\"test data 변수 요약 정보 확인 : \\n\", test_data.describe())"
   ]
  },
  {
   "cell_type": "markdown",
   "metadata": {},
   "source": [
    "# 대회에 필요한 데이터만 활용하기"
   ]
  },
  {
   "cell_type": "code",
   "execution_count": 41,
   "metadata": {},
   "outputs": [],
   "source": [
    "# 필요 없는 column 제거\n",
    "train_data = train_data.drop(columns=[\"index\", \"contract_year_month_day\"])\n",
    "\n",
    "# contract_year_month, contract_day를 contract_year_month_day로 통합\n",
    "train_data[\"contract_year_month_day\"] = train_data[\"contract_year_month\"] * 100 + train_data[\"contract_day\"]\n",
    "train_data.drop(columns=[\"contract_year_month\", \"contract_day\"], inplace=True)"
   ]
  },
  {
   "cell_type": "markdown",
   "metadata": {},
   "source": [
    "# Holdout 데이터셋 설정 (예: 2023년 7월부터 12월까지의 데이터)"
   ]
  },
  {
   "cell_type": "code",
   "execution_count": 43,
   "metadata": {},
   "outputs": [],
   "source": [
    "holdout_start = 20230701\n",
    "holdout_end = 20231231\n",
    "holdout_data = train_data[(train_data['contract_year_month_day'] >= holdout_start) & (train_data['contract_year_month_day'] <= holdout_end)]\n",
    "train_data = train_data[~((train_data['contract_year_month_day'] >= holdout_start) & (train_data['contract_year_month_day'] <= holdout_end))]"
   ]
  },
  {
   "cell_type": "markdown",
   "metadata": {},
   "source": [
    "# 학습 데이터와 정답 데이터 분리"
   ]
  },
  {
   "cell_type": "code",
   "execution_count": 44,
   "metadata": {},
   "outputs": [],
   "source": [
    "X_train = train_data.drop(columns=['deposit'])\n",
    "y_train = train_data['deposit']\n",
    "X_holdout = holdout_data.drop(columns=['deposit'])\n",
    "y_holdout = holdout_data['deposit']\n",
    "X_test = test_data.copy()"
   ]
  },
  {
   "cell_type": "markdown",
   "metadata": {},
   "source": [
    "# LightGBM 모델 훈련"
   ]
  },
  {
   "cell_type": "code",
   "execution_count": 55,
   "metadata": {},
   "outputs": [
    {
     "name": "stdout",
     "output_type": "stream",
     "text": [
      "[LightGBM] [Info] Auto-choosing row-wise multi-threading, the overhead of testing was 0.000855 seconds.\n",
      "You can set `force_row_wise=true` to remove the overhead.\n",
      "And if memory is not enough, you can set `force_col_wise=true`.\n",
      "[LightGBM] [Info] Total Bins 1000\n",
      "[LightGBM] [Info] Number of data points in the train set: 50632, number of used features: 7\n",
      "[LightGBM] [Info] Start training from score 30826.432533\n",
      "[LightGBM] [Info] Auto-choosing row-wise multi-threading, the overhead of testing was 0.000940 seconds.\n",
      "You can set `force_row_wise=true` to remove the overhead.\n",
      "And if memory is not enough, you can set `force_col_wise=true`.\n",
      "[LightGBM] [Info] Total Bins 997\n",
      "[LightGBM] [Info] Number of data points in the train set: 50632, number of used features: 7\n",
      "[LightGBM] [Info] Auto-choosing col-wise multi-threading, the overhead of testing was 0.002058 seconds.\n",
      "You can set `force_col_wise=true` to remove the overhead.\n",
      "[LightGBM] [Info] Total Bins 996\n",
      "[LightGBM] [Info] Number of data points in the train set: 50632, number of used features: 7\n",
      "[LightGBM] [Info] Auto-choosing row-wise multi-threading, the overhead of testing was 0.001049 seconds.\n",
      "You can set `force_row_wise=true` to remove the overhead.\n",
      "And if memory is not enough, you can set `force_col_wise=true`.\n",
      "[LightGBM] [Info] Total Bins 987\n",
      "[LightGBM] [Info] Number of data points in the train set: 50632, number of used features: 7\n",
      "[LightGBM] [Info] Auto-choosing row-wise multi-threading, the overhead of testing was 0.000842 seconds.\n",
      "You can set `force_row_wise=true` to remove the overhead.\n",
      "And if memory is not enough, you can set `force_col_wise=true`.\n",
      "[LightGBM] [Info] Total Bins 987\n",
      "[LightGBM] [Info] Number of data points in the train set: 50632, number of used features: 7\n",
      "[LightGBM] [Info] Auto-choosing row-wise multi-threading, the overhead of testing was 0.000824 seconds.\n",
      "You can set `force_row_wise=true` to remove the overhead.\n",
      "And if memory is not enough, you can set `force_col_wise=true`.\n",
      "[LightGBM] [Info] Total Bins 981\n",
      "[LightGBM] [Info] Number of data points in the train set: 50632, number of used features: 7\n",
      "[LightGBM] [Info] Auto-choosing row-wise multi-threading, the overhead of testing was 0.000831 seconds.\n",
      "You can set `force_row_wise=true` to remove the overhead.\n",
      "And if memory is not enough, you can set `force_col_wise=true`.\n",
      "[LightGBM] [Info] Total Bins 993\n",
      "[LightGBM] [Info] Number of data points in the train set: 50632, number of used features: 7\n",
      "[LightGBM] [Info] Auto-choosing row-wise multi-threading, the overhead of testing was 0.000806 seconds.\n",
      "You can set `force_row_wise=true` to remove the overhead.\n",
      "And if memory is not enough, you can set `force_col_wise=true`.\n",
      "[LightGBM] [Info] Total Bins 984\n",
      "[LightGBM] [Info] Number of data points in the train set: 50632, number of used features: 7\n",
      "[LightGBM] [Info] Auto-choosing row-wise multi-threading, the overhead of testing was 0.000994 seconds.\n",
      "You can set `force_row_wise=true` to remove the overhead.\n",
      "And if memory is not enough, you can set `force_col_wise=true`.\n",
      "[LightGBM] [Info] Total Bins 983\n",
      "[LightGBM] [Info] Number of data points in the train set: 50632, number of used features: 7\n",
      "[LightGBM] [Info] Auto-choosing row-wise multi-threading, the overhead of testing was 0.000823 seconds.\n",
      "You can set `force_row_wise=true` to remove the overhead.\n",
      "And if memory is not enough, you can set `force_col_wise=true`.\n",
      "[LightGBM] [Info] Total Bins 996\n",
      "[LightGBM] [Info] Number of data points in the train set: 50632, number of used features: 7\n",
      "[LightGBM] [Info] Auto-choosing row-wise multi-threading, the overhead of testing was 0.000877 seconds.\n",
      "You can set `force_row_wise=true` to remove the overhead.\n",
      "And if memory is not enough, you can set `force_col_wise=true`.\n",
      "[LightGBM] [Info] Total Bins 994\n",
      "[LightGBM] [Info] Number of data points in the train set: 50632, number of used features: 7\n",
      "[LightGBM] [Info] Auto-choosing row-wise multi-threading, the overhead of testing was 0.000873 seconds.\n",
      "You can set `force_row_wise=true` to remove the overhead.\n",
      "And if memory is not enough, you can set `force_col_wise=true`.\n",
      "[LightGBM] [Info] Total Bins 989\n",
      "[LightGBM] [Info] Number of data points in the train set: 50632, number of used features: 7\n",
      "[LightGBM] [Info] Auto-choosing row-wise multi-threading, the overhead of testing was 0.000969 seconds.\n",
      "You can set `force_row_wise=true` to remove the overhead.\n",
      "And if memory is not enough, you can set `force_col_wise=true`.\n",
      "[LightGBM] [Info] Total Bins 994\n",
      "[LightGBM] [Info] Number of data points in the train set: 50632, number of used features: 7\n",
      "[LightGBM] [Info] Auto-choosing row-wise multi-threading, the overhead of testing was 0.000878 seconds.\n",
      "You can set `force_row_wise=true` to remove the overhead.\n",
      "And if memory is not enough, you can set `force_col_wise=true`.\n",
      "[LightGBM] [Info] Total Bins 984\n",
      "[LightGBM] [Info] Number of data points in the train set: 50632, number of used features: 8\n",
      "[LightGBM] [Info] Auto-choosing row-wise multi-threading, the overhead of testing was 0.003126 seconds.\n",
      "You can set `force_row_wise=true` to remove the overhead.\n",
      "And if memory is not enough, you can set `force_col_wise=true`.\n",
      "[LightGBM] [Info] Total Bins 985\n",
      "[LightGBM] [Info] Number of data points in the train set: 50632, number of used features: 8\n",
      "[LightGBM] [Info] Auto-choosing row-wise multi-threading, the overhead of testing was 0.002381 seconds.\n",
      "You can set `force_row_wise=true` to remove the overhead.\n",
      "And if memory is not enough, you can set `force_col_wise=true`.\n",
      "[LightGBM] [Info] Total Bins 986\n",
      "[LightGBM] [Info] Number of data points in the train set: 50632, number of used features: 8\n",
      "[LightGBM] [Info] Auto-choosing col-wise multi-threading, the overhead of testing was 0.006218 seconds.\n",
      "You can set `force_col_wise=true` to remove the overhead.\n",
      "[LightGBM] [Info] Total Bins 986\n",
      "[LightGBM] [Info] Number of data points in the train set: 50632, number of used features: 8\n",
      "[LightGBM] [Info] Auto-choosing col-wise multi-threading, the overhead of testing was 0.008184 seconds.\n",
      "You can set `force_col_wise=true` to remove the overhead.\n",
      "[LightGBM] [Info] Total Bins 988\n",
      "[LightGBM] [Info] Number of data points in the train set: 50632, number of used features: 8\n",
      "[LightGBM] [Info] Auto-choosing col-wise multi-threading, the overhead of testing was 0.005875 seconds.\n",
      "You can set `force_col_wise=true` to remove the overhead.\n",
      "[LightGBM] [Info] Total Bins 981\n",
      "[LightGBM] [Info] Number of data points in the train set: 50632, number of used features: 8\n",
      "[LightGBM] [Info] Auto-choosing col-wise multi-threading, the overhead of testing was 0.006360 seconds.\n",
      "You can set `force_col_wise=true` to remove the overhead.\n",
      "[LightGBM] [Info] Total Bins 981\n",
      "[LightGBM] [Info] Number of data points in the train set: 50632, number of used features: 8\n",
      "[LightGBM] [Info] Auto-choosing row-wise multi-threading, the overhead of testing was 0.003147 seconds.\n",
      "You can set `force_row_wise=true` to remove the overhead.\n",
      "And if memory is not enough, you can set `force_col_wise=true`.\n",
      "[LightGBM] [Info] Total Bins 985\n",
      "[LightGBM] [Info] Number of data points in the train set: 50632, number of used features: 8\n",
      "[LightGBM] [Info] Auto-choosing row-wise multi-threading, the overhead of testing was 0.003052 seconds.\n",
      "You can set `force_row_wise=true` to remove the overhead.\n",
      "And if memory is not enough, you can set `force_col_wise=true`.\n",
      "[LightGBM] [Info] Total Bins 988\n",
      "[LightGBM] [Info] Number of data points in the train set: 50632, number of used features: 8\n",
      "[LightGBM] [Info] Auto-choosing col-wise multi-threading, the overhead of testing was 0.006304 seconds.\n",
      "You can set `force_col_wise=true` to remove the overhead.\n",
      "[LightGBM] [Info] Total Bins 986\n",
      "[LightGBM] [Info] Number of data points in the train set: 50632, number of used features: 8\n",
      "[LightGBM] [Info] Auto-choosing col-wise multi-threading, the overhead of testing was 0.005675 seconds.\n",
      "You can set `force_col_wise=true` to remove the overhead.\n",
      "[LightGBM] [Info] Total Bins 988\n",
      "[LightGBM] [Info] Number of data points in the train set: 50632, number of used features: 8\n",
      "[LightGBM] [Info] Auto-choosing row-wise multi-threading, the overhead of testing was 0.001071 seconds.\n",
      "You can set `force_row_wise=true` to remove the overhead.\n",
      "And if memory is not enough, you can set `force_col_wise=true`.\n",
      "[LightGBM] [Info] Total Bins 990\n",
      "[LightGBM] [Info] Number of data points in the train set: 50632, number of used features: 8\n",
      "[LightGBM] [Info] Auto-choosing row-wise multi-threading, the overhead of testing was 0.000915 seconds.\n",
      "You can set `force_row_wise=true` to remove the overhead.\n",
      "And if memory is not enough, you can set `force_col_wise=true`.\n",
      "[LightGBM] [Info] Total Bins 989\n",
      "[LightGBM] [Info] Number of data points in the train set: 50632, number of used features: 8\n",
      "[LightGBM] [Info] Auto-choosing row-wise multi-threading, the overhead of testing was 0.000940 seconds.\n",
      "You can set `force_row_wise=true` to remove the overhead.\n",
      "And if memory is not enough, you can set `force_col_wise=true`.\n",
      "[LightGBM] [Info] Total Bins 976\n",
      "[LightGBM] [Info] Number of data points in the train set: 50632, number of used features: 8\n",
      "[LightGBM] [Info] Auto-choosing row-wise multi-threading, the overhead of testing was 0.002481 seconds.\n",
      "You can set `force_row_wise=true` to remove the overhead.\n",
      "And if memory is not enough, you can set `force_col_wise=true`.\n",
      "[LightGBM] [Info] Total Bins 977\n",
      "[LightGBM] [Info] Number of data points in the train set: 50632, number of used features: 8\n",
      "[LightGBM] [Info] Auto-choosing row-wise multi-threading, the overhead of testing was 0.001520 seconds.\n",
      "You can set `force_row_wise=true` to remove the overhead.\n",
      "And if memory is not enough, you can set `force_col_wise=true`.\n",
      "[LightGBM] [Info] Total Bins 984\n",
      "[LightGBM] [Info] Number of data points in the train set: 50632, number of used features: 8\n",
      "[LightGBM] [Info] Auto-choosing row-wise multi-threading, the overhead of testing was 0.001821 seconds.\n",
      "You can set `force_row_wise=true` to remove the overhead.\n",
      "And if memory is not enough, you can set `force_col_wise=true`.\n",
      "[LightGBM] [Info] Total Bins 983\n",
      "[LightGBM] [Info] Number of data points in the train set: 50632, number of used features: 8\n",
      "[LightGBM] [Warning] There are no meaningful features which satisfy the provided configuration. Decreasing Dataset parameters min_data_in_bin or min_data_in_leaf and re-constructing Dataset might resolve this warning.\n",
      "[LightGBM] [Info] Total Bins 0\n",
      "[LightGBM] [Info] Number of data points in the train set: 15, number of used features: 0\n",
      "[LightGBM] [Warning] Stopped training because there are no more leaves that meet the split requirements\n",
      "[LightGBM] [Warning] Stopped training because there are no more leaves that meet the split requirements\n",
      "[LightGBM] [Warning] Stopped training because there are no more leaves that meet the split requirements\n",
      "[LightGBM] [Warning] Stopped training because there are no more leaves that meet the split requirements\n",
      "[LightGBM] [Warning] Stopped training because there are no more leaves that meet the split requirements\n",
      "[LightGBM] [Warning] Stopped training because there are no more leaves that meet the split requirements\n",
      "[LightGBM] [Warning] Stopped training because there are no more leaves that meet the split requirements\n",
      "[LightGBM] [Warning] Stopped training because there are no more leaves that meet the split requirements\n",
      "[LightGBM] [Warning] Stopped training because there are no more leaves that meet the split requirements\n",
      "[LightGBM] [Warning] Stopped training because there are no more leaves that meet the split requirements\n",
      "[LightGBM] [Warning] Stopped training because there are no more leaves that meet the split requirements\n",
      "[LightGBM] [Warning] Stopped training because there are no more leaves that meet the split requirements\n",
      "[LightGBM] [Warning] Stopped training because there are no more leaves that meet the split requirements\n",
      "[LightGBM] [Warning] Stopped training because there are no more leaves that meet the split requirements\n",
      "[LightGBM] [Warning] Stopped training because there are no more leaves that meet the split requirements\n",
      "[LightGBM] [Warning] Stopped training because there are no more leaves that meet the split requirements\n",
      "[LightGBM] [Warning] Stopped training because there are no more leaves that meet the split requirements\n",
      "[LightGBM] [Warning] Stopped training because there are no more leaves that meet the split requirements\n",
      "[LightGBM] [Warning] Stopped training because there are no more leaves that meet the split requirements\n",
      "[LightGBM] [Warning] Stopped training because there are no more leaves that meet the split requirements\n",
      "[LightGBM] [Warning] Stopped training because there are no more leaves that meet the split requirements\n",
      "[LightGBM] [Warning] Stopped training because there are no more leaves that meet the split requirements\n",
      "[LightGBM] [Warning] Stopped training because there are no more leaves that meet the split requirements\n",
      "[LightGBM] [Warning] Stopped training because there are no more leaves that meet the split requirements\n",
      "[LightGBM] [Warning] Stopped training because there are no more leaves that meet the split requirements\n",
      "[LightGBM] [Warning] Stopped training because there are no more leaves that meet the split requirements\n",
      "[LightGBM] [Warning] Stopped training because there are no more leaves that meet the split requirements\n",
      "[LightGBM] [Warning] Stopped training because there are no more leaves that meet the split requirements\n",
      "[LightGBM] [Warning] Stopped training because there are no more leaves that meet the split requirements\n",
      "[LightGBM] [Warning] Stopped training because there are no more leaves that meet the split requirements\n",
      "[LightGBM] [Warning] Stopped training because there are no more leaves that meet the split requirements\n",
      "[LightGBM] [Warning] Stopped training because there are no more leaves that meet the split requirements\n",
      "[LightGBM] [Warning] Stopped training because there are no more leaves that meet the split requirements\n",
      "[LightGBM] [Warning] Stopped training because there are no more leaves that meet the split requirements\n",
      "[LightGBM] [Warning] Stopped training because there are no more leaves that meet the split requirements\n",
      "[LightGBM] [Warning] Stopped training because there are no more leaves that meet the split requirements\n",
      "[LightGBM] [Warning] Stopped training because there are no more leaves that meet the split requirements\n",
      "[LightGBM] [Warning] Stopped training because there are no more leaves that meet the split requirements\n",
      "[LightGBM] [Warning] Stopped training because there are no more leaves that meet the split requirements\n",
      "[LightGBM] [Warning] Stopped training because there are no more leaves that meet the split requirements\n",
      "[LightGBM] [Warning] Stopped training because there are no more leaves that meet the split requirements\n",
      "[LightGBM] [Warning] Stopped training because there are no more leaves that meet the split requirements\n",
      "[LightGBM] [Warning] Stopped training because there are no more leaves that meet the split requirements\n",
      "[LightGBM] [Warning] Stopped training because there are no more leaves that meet the split requirements\n",
      "[LightGBM] [Warning] Stopped training because there are no more leaves that meet the split requirements\n",
      "[LightGBM] [Warning] Stopped training because there are no more leaves that meet the split requirements\n",
      "[LightGBM] [Warning] Stopped training because there are no more leaves that meet the split requirements\n",
      "[LightGBM] [Warning] Stopped training because there are no more leaves that meet the split requirements\n",
      "[LightGBM] [Warning] Stopped training because there are no more leaves that meet the split requirements\n",
      "[LightGBM] [Warning] Stopped training because there are no more leaves that meet the split requirements\n",
      "[LightGBM] [Warning] Stopped training because there are no more leaves that meet the split requirements\n",
      "[LightGBM] [Warning] Stopped training because there are no more leaves that meet the split requirements\n",
      "[LightGBM] [Warning] Stopped training because there are no more leaves that meet the split requirements\n",
      "[LightGBM] [Warning] Stopped training because there are no more leaves that meet the split requirements\n",
      "[LightGBM] [Warning] Stopped training because there are no more leaves that meet the split requirements\n",
      "[LightGBM] [Warning] Stopped training because there are no more leaves that meet the split requirements\n",
      "[LightGBM] [Warning] Stopped training because there are no more leaves that meet the split requirements\n",
      "[LightGBM] [Warning] Stopped training because there are no more leaves that meet the split requirements\n",
      "[LightGBM] [Warning] Stopped training because there are no more leaves that meet the split requirements\n",
      "[LightGBM] [Warning] Stopped training because there are no more leaves that meet the split requirements\n",
      "[LightGBM] [Warning] Stopped training because there are no more leaves that meet the split requirements\n",
      "[LightGBM] [Warning] Stopped training because there are no more leaves that meet the split requirements\n",
      "[LightGBM] [Warning] Stopped training because there are no more leaves that meet the split requirements\n",
      "[LightGBM] [Warning] Stopped training because there are no more leaves that meet the split requirements\n",
      "[LightGBM] [Warning] Stopped training because there are no more leaves that meet the split requirements\n",
      "[LightGBM] [Warning] Stopped training because there are no more leaves that meet the split requirements\n",
      "[LightGBM] [Warning] Stopped training because there are no more leaves that meet the split requirements\n",
      "[LightGBM] [Warning] Stopped training because there are no more leaves that meet the split requirements\n",
      "[LightGBM] [Warning] Stopped training because there are no more leaves that meet the split requirements\n",
      "[LightGBM] [Warning] Stopped training because there are no more leaves that meet the split requirements\n",
      "[LightGBM] [Warning] Stopped training because there are no more leaves that meet the split requirements\n",
      "[LightGBM] [Warning] Stopped training because there are no more leaves that meet the split requirements\n",
      "[LightGBM] [Warning] Stopped training because there are no more leaves that meet the split requirements\n",
      "[LightGBM] [Warning] Stopped training because there are no more leaves that meet the split requirements\n",
      "[LightGBM] [Warning] Stopped training because there are no more leaves that meet the split requirements\n",
      "[LightGBM] [Warning] Stopped training because there are no more leaves that meet the split requirements\n",
      "[LightGBM] [Warning] Stopped training because there are no more leaves that meet the split requirements\n",
      "[LightGBM] [Warning] Stopped training because there are no more leaves that meet the split requirements\n",
      "[LightGBM] [Warning] Stopped training because there are no more leaves that meet the split requirements\n",
      "[LightGBM] [Warning] Stopped training because there are no more leaves that meet the split requirements\n",
      "[LightGBM] [Warning] Stopped training because there are no more leaves that meet the split requirements\n",
      "[LightGBM] [Warning] Stopped training because there are no more leaves that meet the split requirements\n",
      "[LightGBM] [Warning] Stopped training because there are no more leaves that meet the split requirements\n",
      "[LightGBM] [Warning] Stopped training because there are no more leaves that meet the split requirements\n",
      "[LightGBM] [Warning] Stopped training because there are no more leaves that meet the split requirements\n",
      "[LightGBM] [Warning] Stopped training because there are no more leaves that meet the split requirements\n",
      "[LightGBM] [Warning] Stopped training because there are no more leaves that meet the split requirements\n",
      "[LightGBM] [Warning] Stopped training because there are no more leaves that meet the split requirements\n",
      "[LightGBM] [Warning] Stopped training because there are no more leaves that meet the split requirements\n",
      "[LightGBM] [Warning] Stopped training because there are no more leaves that meet the split requirements\n",
      "[LightGBM] [Warning] Stopped training because there are no more leaves that meet the split requirements\n",
      "[LightGBM] [Warning] Stopped training because there are no more leaves that meet the split requirements\n",
      "[LightGBM] [Warning] Stopped training because there are no more leaves that meet the split requirements\n",
      "[LightGBM] [Warning] Stopped training because there are no more leaves that meet the split requirements\n",
      "[LightGBM] [Warning] Stopped training because there are no more leaves that meet the split requirements\n",
      "[LightGBM] [Warning] Stopped training because there are no more leaves that meet the split requirements\n",
      "[LightGBM] [Warning] Stopped training because there are no more leaves that meet the split requirements\n",
      "[LightGBM] [Warning] Stopped training because there are no more leaves that meet the split requirements\n",
      "[LightGBM] [Warning] Stopped training because there are no more leaves that meet the split requirements\n",
      "[LightGBM] [Warning] Stopped training because there are no more leaves that meet the split requirements\n"
     ]
    }
   ],
   "source": [
    "lgb_model = lgb.LGBMRegressor(random_state=RANDOM_SEED)\n",
    "# lgb_model.fit(X_train, y_train)\n",
    "\n",
    "# batch로 나눠서 학습\n",
    "batch_num = 30\n",
    "batch_size = len(X_train) // batch_num\n",
    "for i in range(0, len(X_train), batch_size):\n",
    "    X_batch = X_train[i:i+batch_size]\n",
    "    y_batch = y_train[i:i+batch_size]\n",
    "    # lgb_model.fit(X_batch, y_batch)\n",
    "    lgb_model.fit(X_batch, y_batch, init_model=lgb_model if i != 0 else None)"
   ]
  },
  {
   "cell_type": "markdown",
   "metadata": {},
   "source": [
    "# Holdout 데이터셋에 대한 성능 확인"
   ]
  },
  {
   "cell_type": "code",
   "execution_count": 56,
   "metadata": {},
   "outputs": [
    {
     "name": "stdout",
     "output_type": "stream",
     "text": [
      "Holdout 데이터셋 성능:\n",
      "LightGBM MAE: 5107.40\n"
     ]
    }
   ],
   "source": [
    "lgb_holdout_pred = lgb_model.predict(X_holdout)\n",
    "lgb_holdout_mae = mean_absolute_error(y_holdout, lgb_holdout_pred)\n",
    "print(\"Holdout 데이터셋 성능:\")\n",
    "print(f\"LightGBM MAE: {lgb_holdout_mae:.2f}\")"
   ]
  },
  {
   "cell_type": "code",
   "execution_count": 57,
   "metadata": {},
   "outputs": [
    {
     "data": {
      "text/plain": [
       "<Axes: title={'center': 'Feature importance'}, xlabel='Feature importance', ylabel='Features'>"
      ]
     },
     "execution_count": 57,
     "metadata": {},
     "output_type": "execute_result"
    },
    {
     "data": {
      "image/png": "[encoded data removed]",
      "text/plain": [
       "<Figure size 640x480 with 1 Axes>"
      ]
     },
     "metadata": {},
     "output_type": "display_data"
    }
   ],
   "source": [
    "lgb.plot_importance(lgb_model, importance_type='gain', max_num_features=20)\n"
   ]
  },
  {
   "cell_type": "code",
   "execution_count": 58,
   "metadata": {},
   "outputs": [
    {
     "data": {
      "text/plain": [
       "(-100000.0, 100000.0)"
      ]
     },
     "execution_count": 58,
     "metadata": {},
     "output_type": "execute_result"
    },
    {
     "data": {
      "image/png": "[encoded data removed]",
      "text/plain": [
       "<Figure size 2000x600 with 1 Axes>"
      ]
     },
     "metadata": {},
     "output_type": "display_data"
    }
   ],
   "source": [
    "pred_df = pd.DataFrame({'pred': lgb_holdout_pred, 'target': y_holdout})\n",
    "pred_df[\"diff\"] = pred_df[\"pred\"] - pred_df[\"target\"]\n",
    "pred_df[\"diff\"].hist(bins=800, figsize=(20, 6))\n",
    "# plt.ylim(0, 80)\n",
    "plt.xlim(-100000, 100000)"
   ]
  },
  {
   "cell_type": "code",
   "execution_count": 59,
   "metadata": {},
   "outputs": [
    {
     "data": {
      "text/html": [
       "<div>\n",
       "<style scoped>\n",
       "    .dataframe tbody tr th:only-of-type {\n",
       "        vertical-align: middle;\n",
       "    }\n",
       "\n",
       "    .dataframe tbody tr th {\n",
       "        vertical-align: top;\n",
       "    }\n",
       "\n",
       "    .dataframe thead th {\n",
       "        text-align: right;\n",
       "    }\n",
       "</style>\n",
       "<table border=\"1\" class=\"dataframe\">\n",
       "  <thead>\n",
       "    <tr style=\"text-align: right;\">\n",
       "      <th></th>\n",
       "      <th>pred</th>\n",
       "      <th>target</th>\n",
       "      <th>diff</th>\n",
       "    </tr>\n",
       "  </thead>\n",
       "  <tbody>\n",
       "    <tr>\n",
       "      <th>count</th>\n",
       "      <td>198636.000000</td>\n",
       "      <td>198636.000000</td>\n",
       "      <td>198636.000000</td>\n",
       "    </tr>\n",
       "    <tr>\n",
       "      <th>mean</th>\n",
       "      <td>38965.849861</td>\n",
       "      <td>40903.631089</td>\n",
       "      <td>-1937.781228</td>\n",
       "    </tr>\n",
       "    <tr>\n",
       "      <th>std</th>\n",
       "      <td>26132.586413</td>\n",
       "      <td>28571.795590</td>\n",
       "      <td>8281.949837</td>\n",
       "    </tr>\n",
       "    <tr>\n",
       "      <th>min</th>\n",
       "      <td>-49568.480163</td>\n",
       "      <td>955.000000</td>\n",
       "      <td>-496510.616263</td>\n",
       "    </tr>\n",
       "    <tr>\n",
       "      <th>25%</th>\n",
       "      <td>22578.669720</td>\n",
       "      <td>23000.000000</td>\n",
       "      <td>-5005.818291</td>\n",
       "    </tr>\n",
       "    <tr>\n",
       "      <th>50%</th>\n",
       "      <td>32726.065446</td>\n",
       "      <td>34458.000000</td>\n",
       "      <td>-1361.064650</td>\n",
       "    </tr>\n",
       "    <tr>\n",
       "      <th>75%</th>\n",
       "      <td>47717.024292</td>\n",
       "      <td>50000.000000</td>\n",
       "      <td>1484.438145</td>\n",
       "    </tr>\n",
       "    <tr>\n",
       "      <th>max</th>\n",
       "      <td>632897.675670</td>\n",
       "      <td>1000000.000000</td>\n",
       "      <td>211529.735657</td>\n",
       "    </tr>\n",
       "  </tbody>\n",
       "</table>\n",
       "</div>"
      ],
      "text/plain": [
       "                pred          target           diff\n",
       "count  198636.000000   198636.000000  198636.000000\n",
       "mean    38965.849861    40903.631089   -1937.781228\n",
       "std     26132.586413    28571.795590    8281.949837\n",
       "min    -49568.480163      955.000000 -496510.616263\n",
       "25%     22578.669720    23000.000000   -5005.818291\n",
       "50%     32726.065446    34458.000000   -1361.064650\n",
       "75%     47717.024292    50000.000000    1484.438145\n",
       "max    632897.675670  1000000.000000  211529.735657"
      ]
     },
     "execution_count": 59,
     "metadata": {},
     "output_type": "execute_result"
    }
   ],
   "source": [
    "pred_df.describe()"
   ]
  },
  {
   "cell_type": "markdown",
   "metadata": {},
   "source": [
    "# Sample Submission 제출하기"
   ]
  },
  {
   "cell_type": "code",
   "execution_count": 27,
   "metadata": {},
   "outputs": [],
   "source": [
    "lgb_test_pred = lgb_model.predict(X_test)\n",
    "sample_submission['deposit'] = lgb_test_pred\n",
    "sample_submission.to_csv(f\"output_{datetime.datetime.now().replace(second=0, microsecond=0)}.csv\", index=False, encoding='utf-8-sig')"
   ]
  }
 ],
 "metadata": {
  "kernelspec": {
   "display_name": "base",
   "language": "python",
   "name": "python3"
  },
  "language_info": {
   "codemirror_mode": {
    "name": "ipython",
    "version": 3
   },
   "file_extension": ".py",
   "mimetype": "text/x-python",
   "name": "python",
   "nbconvert_exporter": "python",
   "pygments_lexer": "ipython3",
   "version": "3.11.5"
  }
 },
 "nbformat": 4,
 "nbformat_minor": 2
}
